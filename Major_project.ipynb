{
 "cells": [
  {
   "cell_type": "markdown",
   "metadata": {},
   "source": [
    "#IPL SCORE PREDICTOR"
   ]
  },
  {
   "cell_type": "code",
   "execution_count": null,
   "metadata": {},
   "outputs": [],
   "source": [
    "#Importing Dataset\n",
    "import pandas as pd\n",
    "df=pd.read_csv(\"C:/Users/Guru/ipl2017.csv\")\n",
    "\n",
    "#Removing unwanted colums\n",
    "x=df.drop([\"total\",\"date\",\"mid\"],axis=1)\n",
    "y=df[\"total\"]\n",
    "\n",
    "#One_hot encoding\n",
    "x=pd.get_dummies(x,columns=[\"venue\",\"bat_team\",\"bowl_team\",\"batsman\",\"bowler\"],drop_first=True)\n",
    "\n",
    "#train test split\n",
    "from sklearn.model_selection import train_test_split\n",
    "x_train,x_test,y_train,y_test=train_test_split(x,y,test_size=0.3)\n",
    "\n",
    "#scaling\n",
    "from sklearn.preprocessing import StandardScaler\n",
    "scale=StandardScaler()\n",
    "scale.fit_transform(x_train)\n",
    "scale.transform(x_test)\n",
    "\n",
    "#fiting and testing model\n",
    "from sklearn.ensemble import RandomForestRegressor\n",
    "model=RandomForestRegressor()\n",
    "model.fit(x_train,y_train)\n",
    "model.score(x_test,y_test)\n",
    "\n",
    "#predicting\n",
    "data=pd.read_csv(\"C:/Users/Guru/new_data.csv\")\n",
    "model.predict(data)\n"
   ]
  },
  {
   "cell_type": "code",
   "execution_count": null,
   "metadata": {},
   "outputs": [],
   "source": []
  }
 ],
 "metadata": {
  "kernelspec": {
   "display_name": "Python 3",
   "language": "python",
   "name": "python3"
  },
  "language_info": {
   "codemirror_mode": {
    "name": "ipython",
    "version": 3
   },
   "file_extension": ".py",
   "mimetype": "text/x-python",
   "name": "python",
   "nbconvert_exporter": "python",
   "pygments_lexer": "ipython3",
   "version": "3.7.6"
  }
 },
 "nbformat": 4,
 "nbformat_minor": 4
}
